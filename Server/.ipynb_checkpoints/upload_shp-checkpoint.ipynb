{
 "cells": [
  {
   "cell_type": "code",
   "execution_count": 2,
   "id": "90f3a8dd-1133-4ea7-b65b-63f3a156b141",
   "metadata": {},
   "outputs": [],
   "source": [
    "import geopandas as gpd\n",
    "from sqlalchemy import create_engine"
   ]
  },
  {
   "cell_type": "code",
   "execution_count": 4,
   "id": "49d7f264-4131-4c0b-9a2b-585114637253",
   "metadata": {},
   "outputs": [],
   "source": [
    "# Cargar el Shapefile\n",
    "# Han de estar els 4 fitxer junts.\n",
    "gdf_catastral = gpd.read_file('./data/PARCELA.shp')"
   ]
  },
  {
   "cell_type": "code",
   "execution_count": 7,
   "id": "89d4abd3-5020-45a8-bf4d-6398abea0263",
   "metadata": {},
   "outputs": [
    {
     "data": {
      "text/html": [
       "<div>\n",
       "<style scoped>\n",
       "    .dataframe tbody tr th:only-of-type {\n",
       "        vertical-align: middle;\n",
       "    }\n",
       "\n",
       "    .dataframe tbody tr th {\n",
       "        vertical-align: top;\n",
       "    }\n",
       "\n",
       "    .dataframe thead th {\n",
       "        text-align: right;\n",
       "    }\n",
       "</style>\n",
       "<table border=\"1\" class=\"dataframe\">\n",
       "  <thead>\n",
       "    <tr style=\"text-align: right;\">\n",
       "      <th></th>\n",
       "      <th>MAPA</th>\n",
       "      <th>DELEGACIO</th>\n",
       "      <th>MUNICIPIO</th>\n",
       "      <th>MASA</th>\n",
       "      <th>HOJA</th>\n",
       "      <th>TIPO</th>\n",
       "      <th>PARCELA</th>\n",
       "      <th>COORX</th>\n",
       "      <th>COORY</th>\n",
       "      <th>VIA</th>\n",
       "      <th>...</th>\n",
       "      <th>FECHAALTA</th>\n",
       "      <th>FECHABAJA</th>\n",
       "      <th>NINTERNO</th>\n",
       "      <th>PCAT1</th>\n",
       "      <th>PCAT2</th>\n",
       "      <th>EJERCICIO</th>\n",
       "      <th>NUM_EXP</th>\n",
       "      <th>CONTROL</th>\n",
       "      <th>REFCAT</th>\n",
       "      <th>geometry</th>\n",
       "    </tr>\n",
       "  </thead>\n",
       "  <tbody>\n",
       "    <tr>\n",
       "      <th>0</th>\n",
       "      <td>17411</td>\n",
       "      <td>17</td>\n",
       "      <td>16</td>\n",
       "      <td>16238</td>\n",
       "      <td>DG8612S</td>\n",
       "      <td>U</td>\n",
       "      <td>07</td>\n",
       "      <td>481596.82</td>\n",
       "      <td>4662089.22</td>\n",
       "      <td>107</td>\n",
       "      <td>...</td>\n",
       "      <td>20130618</td>\n",
       "      <td>99999999</td>\n",
       "      <td>282201605.0</td>\n",
       "      <td>1623807</td>\n",
       "      <td>DG8612S</td>\n",
       "      <td>0</td>\n",
       "      <td>0</td>\n",
       "      <td>0</td>\n",
       "      <td>1623807DG8612S</td>\n",
       "      <td>POLYGON ((481593.446 4662096.999, 481595.033 4...</td>\n",
       "    </tr>\n",
       "  </tbody>\n",
       "</table>\n",
       "<p>1 rows × 24 columns</p>\n",
       "</div>"
      ],
      "text/plain": [
       "    MAPA  DELEGACIO  MUNICIPIO   MASA     HOJA TIPO PARCELA      COORX  \\\n",
       "0  17411         17         16  16238  DG8612S    U      07  481596.82   \n",
       "\n",
       "        COORY  VIA  ...  FECHAALTA FECHABAJA     NINTERNO    PCAT1    PCAT2  \\\n",
       "0  4662089.22  107  ...   20130618  99999999  282201605.0  1623807  DG8612S   \n",
       "\n",
       "   EJERCICIO  NUM_EXP CONTROL          REFCAT  \\\n",
       "0          0        0       0  1623807DG8612S   \n",
       "\n",
       "                                            geometry  \n",
       "0  POLYGON ((481593.446 4662096.999, 481595.033 4...  \n",
       "\n",
       "[1 rows x 24 columns]"
      ]
     },
     "execution_count": 7,
     "metadata": {},
     "output_type": "execute_result"
    }
   ],
   "source": [
    "gdf_catastral.head(1)"
   ]
  },
  {
   "cell_type": "code",
   "execution_count": 8,
   "id": "98147e04-49b1-48b4-95e2-1b893dd26efc",
   "metadata": {},
   "outputs": [],
   "source": [
    "# Creem un nou camp que és cobertura\n",
    "gdf_catastral['COBERTURA'] = 0;"
   ]
  },
  {
   "cell_type": "code",
   "execution_count": 9,
   "id": "832685ed-2646-4c5f-9546-c36cf258de1c",
   "metadata": {},
   "outputs": [
    {
     "name": "stdout",
     "output_type": "stream",
     "text": [
      "Index(['MAPA', 'DELEGACIO', 'MUNICIPIO', 'MASA', 'HOJA', 'TIPO', 'PARCELA',\n",
      "       'COORX', 'COORY', 'VIA', 'NUMERO', 'NUMERODUP', 'NUMSYMBOL', 'AREA',\n",
      "       'FECHAALTA', 'FECHABAJA', 'NINTERNO', 'PCAT1', 'PCAT2', 'EJERCICIO',\n",
      "       'NUM_EXP', 'CONTROL', 'REFCAT', 'geometry', 'COBERTURA'],\n",
      "      dtype='object')\n"
     ]
    }
   ],
   "source": [
    "print(gdf_catastral.columns)"
   ]
  },
  {
   "cell_type": "code",
   "execution_count": null,
   "id": "70921ff1-6ce8-480a-b916-98c231d8afe7",
   "metadata": {},
   "outputs": [],
   "source": [
    "# Li assignem valors aleatoris 1 o 0.\n",
    "gdf_catastral['COBERTURA'] = np.random.randint(2, size=len(gdf_catastral))"
   ]
  }
 ],
 "metadata": {
  "kernelspec": {
   "display_name": "Python 3 (ipykernel)",
   "language": "python",
   "name": "python3"
  },
  "language_info": {
   "codemirror_mode": {
    "name": "ipython",
    "version": 3
   },
   "file_extension": ".py",
   "mimetype": "text/x-python",
   "name": "python",
   "nbconvert_exporter": "python",
   "pygments_lexer": "ipython3",
   "version": "3.8.19"
  }
 },
 "nbformat": 4,
 "nbformat_minor": 5
}
